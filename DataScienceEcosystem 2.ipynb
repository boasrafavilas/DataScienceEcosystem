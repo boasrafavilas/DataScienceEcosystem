{
  "metadata": {
    "kernelspec": {
      "name": "python",
      "display_name": "Python (Pyodide)",
      "language": "python"
    },
    "language_info": {
      "codemirror_mode": {
        "name": "python",
        "version": 3
      },
      "file_extension": ".py",
      "mimetype": "text/x-python",
      "name": "python",
      "nbconvert_exporter": "python",
      "pygments_lexer": "ipython3",
      "version": "3.8"
    }
  },
  "nbformat_minor": 5,
  "nbformat": 4,
  "cells": [
    {
      "id": "d2ab2251-feeb-4274-8427-c384b942f9a1",
      "cell_type": "markdown",
      "source": "# Data Science Tools and Ecosystem",
      "metadata": {}
    },
    {
      "id": "71f9fb68-78e5-4aea-9f73-19c5e8d5b8d7",
      "cell_type": "markdown",
      "source": "## Introduction\nIn this notebook, we will explore various data science tools, libraries, and languages commonly used in the field. We will also perform some basic arithmetic operations.",
      "metadata": {}
    },
    {
      "id": "b5675f65-c49f-4fec-a4c4-1e777b4a29cc",
      "cell_type": "markdown",
      "source": "## Data Science Languages\n- Python\n- R\n- SQL\n- Julia\n- Scala",
      "metadata": {}
    },
    {
      "id": "d0df0c8f-0175-4081-b72c-8b80c579d26d",
      "cell_type": "markdown",
      "source": "## Data Science Libraries\n- Pandas\n- NumPy\n- Matplotlib\n- Scikit-learn\n- TensorFlow\n- Keras",
      "metadata": {}
    },
    {
      "id": "3c054ebc-c806-434d-a8b4-09b17be27012",
      "cell_type": "markdown",
      "source": "## Data Science Tools\n| Tool           | Description                        |\n|----------------|------------------------------------|\n| Jupyter Notebook | An open-source web application for creating and sharing documents that contain live code, equations, visualizations, and narrative text. |\n| RStudio        | An integrated development environment for R.       |\n| Apache Spark   | A unified analytics engine for big data processing, with built-in modules for streaming, SQL, machine learning, and graph processing. |",
      "metadata": {}
    },
    {
      "id": "5f6f0c43-40ac-4686-9339-82029902f473",
      "cell_type": "markdown",
      "source": "## Arithmetic Expression Examples\nBelow are examples of simple arithmetic expressions that can be performed in Python.",
      "metadata": {}
    },
    {
      "id": "4649b308-09f9-418f-a68b-028233806856",
      "cell_type": "markdown",
      "source": "# Multiplying and adding numbers\n(3 * 4) + 5",
      "metadata": {}
    },
    {
      "id": "845c0454-9625-4529-9d56-e082c4a2662e",
      "cell_type": "markdown",
      "source": "# Converting 200 minutes to hours\nminutes = 200\nhours = minutes / 60\nhours",
      "metadata": {}
    },
    {
      "id": "c8e85d73-44ab-45e7-b33c-45ff2bb80934",
      "cell_type": "markdown",
      "source": "## Objectives\n- Understand different data science languages\n- Learn about various data science libraries\n- Familiarize with data science tools\n- Perform basic arithmetic operations using Python",
      "metadata": {}
    },
    {
      "id": "a2502b6b-00d5-4402-9ed1-d90610d7de1f",
      "cell_type": "markdown",
      "source": "## Author\nYour Name Here\n",
      "metadata": {}
    },
    {
      "id": "1cb9f376-d390-4314-8bfc-2c988850ca36",
      "cell_type": "markdown",
      "source": "",
      "metadata": {}
    }
  ]
}